{
  "nbformat": 4,
  "nbformat_minor": 0,
  "metadata": {
    "colab": {
      "provenance": [],
      "authorship_tag": "ABX9TyMo6hh9vx4s24uA6oL99iYg",
      "include_colab_link": true
    },
    "kernelspec": {
      "name": "python3",
      "display_name": "Python 3"
    },
    "language_info": {
      "name": "python"
    }
  },
  "cells": [
    {
      "cell_type": "markdown",
      "metadata": {
        "id": "view-in-github",
        "colab_type": "text"
      },
      "source": [
        "<a href=\"https://colab.research.google.com/github/Nileve-teoo/OneDrive/blob/main/Tarea_3.ipynb\" target=\"_parent\"><img src=\"https://colab.research.google.com/assets/colab-badge.svg\" alt=\"Open In Colab\"/></a>"
      ]
    },
    {
      "cell_type": "markdown",
      "source": [
        "\n",
        "#  Gestión de Aulas y Laboratorios en la UNMSM\n",
        "---\n",
        "\n",
        "\n",
        "\n",
        "\n",
        ">\n",
        "Este proyecto es una implementación de un sistema de gestión de aulas y laboratorios para la Universidad Nacional Mayor de San Marcos (UNMSM). Permite calcular el área y el perímetro de los espacios, asegurando que los laboratorios sean cuadrados para facilitar la disposición de equipos y el movimiento.\n",
        "\n"
      ],
      "metadata": {
        "id": "efqRteTunOBP"
      }
    },
    {
      "cell_type": "code",
      "execution_count": 144,
      "metadata": {
        "id": "e7Aov1sjj-sR"
      },
      "outputs": [],
      "source": [
        "class Aula:\n",
        "    def __init__(self, nombre,largo, ancho):\n",
        "        self._nombre = nombre\n",
        "        self._largo = largo\n",
        "        self._ancho = ancho\n",
        "\n",
        "    def obtener_area(self):\n",
        "        return self._largo * self._ancho\n",
        "\n",
        "    def obtener_perimetro(self):\n",
        "        return 2 * (self._largo + self._ancho)\n",
        "\n",
        "    def presentar(self):\n",
        "        print(f\"El {self._nombre} tiene {self.obtener_area()} metros cuadrados y un perimetro de {self.obtener_perimetro()} metros.\")\n",
        "\n",
        "\n",
        "class Laboratorio(Aula):\n",
        "    def __init__(self, nombre, lado):\n",
        "        super().__init__(nombre, lado, lado)\n"
      ]
    },
    {
      "cell_type": "markdown",
      "source": [
        " ***Aulas***"
      ],
      "metadata": {
        "id": "ZSWcEaLgOGhI"
      }
    },
    {
      "cell_type": "code",
      "source": [
        "# Creación\n",
        "aula301 = Aula(\"Aula 301\", 15, 15)\n",
        "aula302 = Aula(\"Aula 302\", 18, 18)\n",
        "aula303 = Aula(\"Aula 303\", 19, 10)\n",
        "aula304 = Aula(\"Aula 304\", 17, 25)\n"
      ],
      "metadata": {
        "id": "Ax0QgwKLCu_s"
      },
      "execution_count": 145,
      "outputs": []
    },
    {
      "cell_type": "code",
      "source": [
        "# Imprimir resultados\n",
        "print(aula301.obtener_area())\n",
        "print(aula302.obtener_area())\n",
        "print(aula303.obtener_perimetro())\n",
        "print(aula304.obtener_perimetro())\n",
        "\n",
        "aula301.presentar()\n",
        "aula302.presentar()\n",
        "aula303.presentar()\n",
        "aula304.presentar()"
      ],
      "metadata": {
        "colab": {
          "base_uri": "https://localhost:8080/"
        },
        "id": "rdfxLadhD7K4",
        "outputId": "1859abfb-13c2-4a77-cfe3-c43b35d1cb2b"
      },
      "execution_count": 146,
      "outputs": [
        {
          "output_type": "stream",
          "name": "stdout",
          "text": [
            "225\n",
            "324\n",
            "58\n",
            "84\n",
            "El Aula 301 tiene 225 metros cuadrados y un perimetro de 60 metros.\n",
            "El Aula 302 tiene 324 metros cuadrados y un perimetro de 72 metros.\n",
            "El Aula 303 tiene 190 metros cuadrados y un perimetro de 58 metros.\n",
            "El Aula 304 tiene 425 metros cuadrados y un perimetro de 84 metros.\n"
          ]
        }
      ]
    },
    {
      "cell_type": "markdown",
      "source": [
        "***Laboratorios***"
      ],
      "metadata": {
        "id": "1Pizq9YJOSVd"
      }
    },
    {
      "cell_type": "code",
      "source": [
        "# Creación\n",
        "laboratorio1 = Laboratorio(\"Laboratorio de Mediciones Electrónicas\",8)\n",
        "laboratorio2 = Laboratorio(\"Laboratorio de Energía de potencia\",7)\n",
        "laboratorio3 = Laboratorio(\"Laboratorio de Informática Avanzada\",13)\n"
      ],
      "metadata": {
        "id": "rioqV_dUC0Rs"
      },
      "execution_count": 147,
      "outputs": []
    },
    {
      "cell_type": "code",
      "source": [
        "# Imprimir resultados\n",
        "print(laboratorio1.obtener_perimetro())\n",
        "print(laboratorio2.obtener_perimetro())\n",
        "laboratorio1.presentar()\n",
        "laboratorio2.presentar()\n",
        "laboratorio3.presentar()"
      ],
      "metadata": {
        "colab": {
          "base_uri": "https://localhost:8080/"
        },
        "id": "3JoqVugqEeWG",
        "outputId": "90f7b66a-7b54-4d27-e4f4-80967ad5daff"
      },
      "execution_count": 148,
      "outputs": [
        {
          "output_type": "stream",
          "name": "stdout",
          "text": [
            "32\n",
            "28\n",
            "El Laboratorio de Mediciones Electrónicas tiene 64 metros cuadrados y un perimetro de 32 metros.\n",
            "El Laboratorio de Energía de potencia tiene 49 metros cuadrados y un perimetro de 28 metros.\n",
            "El Laboratorio de Informática Avanzada tiene 169 metros cuadrados y un perimetro de 52 metros.\n"
          ]
        }
      ]
    }
  ]
}