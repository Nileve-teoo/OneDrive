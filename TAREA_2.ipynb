{
  "nbformat": 4,
  "nbformat_minor": 0,
  "metadata": {
    "colab": {
      "provenance": [],
      "authorship_tag": "ABX9TyMtS27S2bgcZgDCWCIU4+ZR",
      "include_colab_link": true
    },
    "kernelspec": {
      "name": "python3",
      "display_name": "Python 3"
    },
    "language_info": {
      "name": "python"
    }
  },
  "cells": [
    {
      "cell_type": "markdown",
      "metadata": {
        "id": "view-in-github",
        "colab_type": "text"
      },
      "source": [
        "<a href=\"https://colab.research.google.com/github/Nileve-teoo/OneDrive/blob/main/tarea_2.ipynb\" target=\"_parent\"><img src=\"https://colab.research.google.com/assets/colab-badge.svg\" alt=\"Open In Colab\"/></a>"
      ]
    },
    {
      "cell_type": "markdown",
      "source": [
        "# Encapsulamiento"
      ],
      "metadata": {
        "id": "CqrOqxy7fp2W"
      }
    },
    {
      "cell_type": "code",
      "execution_count": null,
      "metadata": {
        "id": "f3sXfFwCeszf"
      },
      "outputs": [],
      "source": [
        "class CuentaBancaria:\n",
        "    def __init__(self, numero_cuenta, saldo_inicial):\n",
        "        # Inicializar variables privadas\n",
        "        self.__numero_cuenta = numero_cuenta\n",
        "        self.__saldo = saldo_inicial\n",
        "\n",
        "    # Getters públicos\n",
        "    def obtener_numero_cuenta(self):\n",
        "        return self.__numero_cuenta\n",
        "\n",
        "    def obtener_saldo(self):\n",
        "        return self.__saldo\n",
        "\n",
        "    # Método depositar\n",
        "    def depositar(self, monto):\n",
        "        if monto <= 0:\n",
        "            raise ValueError(\"No se puede retirar fondos negativos o nulos .\")\n",
        "        self.__saldo += monto\n",
        "\n",
        "    # Método retirar\n",
        "    def retirar(self, monto):\n",
        "        if monto <= 0:\n",
        "            raise ValueError(\"No hay fondos.\")\n",
        "        if monto > self.__saldo:\n",
        "            raise ValueError(\"Fondos insuficientes.\")\n",
        "        self.__saldo -= monto\n",
        "\n"
      ]
    },
    {
      "cell_type": "code",
      "source": [
        "# Cuenta bancaria\n",
        "cuenta1 = CuentaBancaria(\"5255456789\", 6600)\n",
        "\n",
        "# Obtener número de cuenta y saldo\n",
        "print(cuenta1.obtener_numero_cuenta())\n",
        "print(cuenta1.obtener_saldo())\n",
        "\n",
        "# Depositar fondos\n",
        "cuenta1.depositar(500)\n",
        "print(cuenta1.obtener_saldo())\n",
        "\n",
        "# Intentar retirar más de lo que hay en la cuenta\n",
        "try:\n",
        "    cuenta1.retirar(2582)\n",
        "except ValueError as e:\n",
        "    print(e)\n",
        "\n",
        "# Retirar fondos correctamente\n",
        "cuenta1.retirar(300)\n",
        "print(cuenta1.obtener_saldo())"
      ],
      "metadata": {
        "colab": {
          "base_uri": "https://localhost:8080/"
        },
        "id": "k4cmnbULhY1W",
        "outputId": "bdb847e9-75d7-454e-fe89-620f69d90250"
      },
      "execution_count": null,
      "outputs": [
        {
          "output_type": "stream",
          "name": "stdout",
          "text": [
            "5255456789\n",
            "6600\n",
            "7100\n",
            "4218\n"
          ]
        }
      ]
    },
    {
      "cell_type": "code",
      "source": [
        "# Cuentas bancarias\n",
        "cuenta1 = CuentaBancaria(\"45646222622\", 1000)\n",
        "cuenta2 = CuentaBancaria(\"54522248621\", 55852)\n",
        "cuenta3 = CuentaBancaria(\"25468828566\", 750152)\n",
        "cuenta4 = CuentaBancaria(\"85656512123\", 1202450)\n",
        "cuenta5 = CuentaBancaria(\"87864655665\", 30052442)\n",
        "\n",
        "# Mostrar saldo inicial de cada cuenta\n",
        "print(\"Saldo inicial :\")\n",
        "print(f\"Cuenta {cuenta1.obtener_numero_cuenta()}: {cuenta1.obtener_saldo()}\")\n",
        "print(f\"Cuenta {cuenta2.obtener_numero_cuenta()}: {cuenta2.obtener_saldo()}\")\n",
        "print(f\"Cuenta {cuenta3.obtener_numero_cuenta()}: {cuenta3.obtener_saldo()}\")\n",
        "print(f\"Cuenta {cuenta4.obtener_numero_cuenta()}: {cuenta4.obtener_saldo()}\")\n",
        "print(f\"Cuenta {cuenta5.obtener_numero_cuenta()}: {cuenta5.obtener_saldo()}\")\n",
        "\n",
        "# Realizar depósitos en algunas cuentas\n",
        "cuenta1.depositar(200)\n",
        "cuenta3.depositar(300)\n",
        "cuenta5.depositar(100)\n",
        "\n",
        "# Realizar retiros en algunas cuentas\n",
        "try:\n",
        "    cuenta2.retirar(100)\n",
        "    cuenta4.retirar(500)\n",
        "except ValueError as e:\n",
        "    print(e)\n",
        "\n",
        "# Mostrar saldo final de cada cuenta\n",
        "print(\"\\nSaldo final después de las transacciones:\")\n",
        "print(f\"Cuenta {cuenta1.obtener_numero_cuenta()}: {cuenta1.obtener_saldo()}\")\n",
        "print(f\"Cuenta {cuenta2.obtener_numero_cuenta()}: {cuenta2.obtener_saldo()}\")\n",
        "print(f\"Cuenta {cuenta3.obtener_numero_cuenta()}: {cuenta3.obtener_saldo()}\")\n",
        "print(f\"Cuenta {cuenta4.obtener_numero_cuenta()}: {cuenta4.obtener_saldo()}\")\n",
        "print(f\"Cuenta {cuenta5.obtener_numero_cuenta()}: {cuenta5.obtener_saldo()}\")"
      ],
      "metadata": {
        "colab": {
          "base_uri": "https://localhost:8080/"
        },
        "id": "B3aXEq2PhReg",
        "outputId": "01134f79-6d3e-4f9c-d578-c89b0c8e79bd"
      },
      "execution_count": null,
      "outputs": [
        {
          "output_type": "stream",
          "name": "stdout",
          "text": [
            "Saldo inicial de las cuentas:\n",
            "Cuenta 45646222622: 1000\n",
            "Cuenta 54522248621: 55852\n",
            "Cuenta 25468828566: 750152\n",
            "Cuenta 85656512123: 1202450\n",
            "Cuenta 87864655665: 30052442\n",
            "\n",
            "Saldo final de las cuentas después de las transacciones:\n",
            "Cuenta 45646222622: 1200\n",
            "Cuenta 54522248621: 55752\n",
            "Cuenta 25468828566: 750452\n",
            "Cuenta 85656512123: 1201950\n",
            "Cuenta 87864655665: 30052542\n"
          ]
        }
      ]
    }
  ]
}
